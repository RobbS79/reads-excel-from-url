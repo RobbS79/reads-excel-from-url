{
  "nbformat": 4,
  "nbformat_minor": 0,
  "metadata": {
    "colab": {
      "name": "ListsLinksFromURL.ipynb",
      "provenance": [],
      "authorship_tag": "ABX9TyNp9Q6Omk6JZ3/M1zewRGeT",
      "include_colab_link": true
    },
    "kernelspec": {
      "name": "python3",
      "display_name": "Python 3"
    },
    "language_info": {
      "name": "python"
    }
  },
  "cells": [
    {
      "cell_type": "markdown",
      "metadata": {
        "id": "view-in-github",
        "colab_type": "text"
      },
      "source": [
        "<a href=\"https://colab.research.google.com/github/RobbS79/reads-excel-from-url/blob/portfolio/ListsLinksFromURL.ipynb\" target=\"_parent\"><img src=\"https://colab.research.google.com/assets/colab-badge.svg\" alt=\"Open In Colab\"/></a>"
      ]
    },
    {
      "cell_type": "code",
      "metadata": {
        "id": "Ldbke4wCOGGB"
      },
      "source": [
        "import pandas as pd\n",
        "from google.colab import drive\n",
        "import requests\n",
        "from bs4 import BeautifulSoup"
      ],
      "execution_count": null,
      "outputs": []
    },
    {
      "cell_type": "code",
      "metadata": {
        "id": "tgN1HwOON9IU"
      },
      "source": [
        "url = \"https://www.upsvr.gov.sk/statistiky/nezamestnanost-mesacne-statistiky/2020.html?page_id=971502\"\n",
        "\n",
        "soup = BeautifulSoup(requests.get(url).content, \"html.parser\")\n",
        "\n",
        "linkages=[]\n",
        "for link in soup.select('a[href*=\".xls\"]'):\n",
        "    linkages.append(link[\"href\"])"
      ],
      "execution_count": null,
      "outputs": []
    }
  ]
}