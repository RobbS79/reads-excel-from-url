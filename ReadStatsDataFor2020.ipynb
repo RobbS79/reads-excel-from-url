{
  "nbformat": 4,
  "nbformat_minor": 0,
  "metadata": {
    "colab": {
      "name": "ReadStatsDataFor2020.ipynb",
      "provenance": [],
      "authorship_tag": "ABX9TyP720krt+xYp0b2bQOXYtOQ",
      "include_colab_link": true
    },
    "kernelspec": {
      "name": "python3",
      "display_name": "Python 3"
    },
    "language_info": {
      "name": "python"
    }
  },
  "cells": [
    {
      "cell_type": "markdown",
      "metadata": {
        "id": "view-in-github",
        "colab_type": "text"
      },
      "source": [
        "<a href=\"https://colab.research.google.com/github/RobbS79/reads-excel-from-url/blob/portfolio/ReadStatsDataFor2020.ipynb\" target=\"_parent\"><img src=\"https://colab.research.google.com/assets/colab-badge.svg\" alt=\"Open In Colab\"/></a>"
      ]
    },
    {
      "cell_type": "code",
      "metadata": {
        "id": "HLmAy4ukWBze"
      },
      "source": [
        "import pandas as pd\n",
        "from google.colab import drive\n",
        "import os\n",
        "import requests\n",
        "from bs4 import BeautifulSoup\n",
        "import matplotlib.pyplot as plt"
      ],
      "execution_count": null,
      "outputs": []
    },
    {
      "cell_type": "markdown",
      "metadata": {
        "id": "pBqQp6BaWIeY"
      },
      "source": [
        "<h1>Reading names of .xlsx files from online available online, on website of Central office of labour, social affairs and family of SR</h1>\n",
        "\n",
        "- connects to the url\n",
        "- lists all 'a' tags which contains 'href' with a substring of '.xlsx'\n",
        "  - they are links to access the .xlsx files with raw unemployment data\n",
        "\n",
        "\n",
        "*Note - chceck, wheather only required files have suffix, which contains a substring of .xlsx"
      ]
    },
    {
      "cell_type": "code",
      "metadata": {
        "id": "AtV0Sx8aqAcI"
      },
      "source": [
        "url = \"https://www.upsvr.gov.sk/statistiky/nezamestnanost-mesacne-statistiky/2020.html?page_id=971502\"\n",
        "\n",
        "soup = BeautifulSoup(requests.get(url).content, \"html.parser\")\n",
        "\n",
        "linkages=[]\n",
        "for link in soup.select('a[href*=\".xls\"]'):\n",
        "    linkages.append(link[\"href\"])"
      ],
      "execution_count": null,
      "outputs": []
    },
    {
      "cell_type": "markdown",
      "metadata": {
        "id": "OUF9LY0FyQe-"
      },
      "source": [
        "<h1>Development of an unemployment in required regions during 2020</h1>\n",
        "\n",
        "- reads the files from list of .xlsx in variable 'linkages'\n",
        "  - define required sheet of .xlsx file, rows and columns which we want to retrieve\n",
        "- puts retrieved data into empty list 'container_of_files'\n",
        "- concatonate them into a single data frame 'all_files'"
      ]
    },
    {
      "cell_type": "code",
      "metadata": {
        "id": "T4OMpa20bOwz"
      },
      "source": [
        "container_of_files = []\n",
        "\n",
        "for link in linkages:\n",
        "    raw_excel_data = pd.read_excel(link,sheet_name=2,header=None,usecols=\"A,O,M\")\n",
        "\n",
        "    required_region_data = raw_excel_data.iloc[71:85].rename(columns={0:\"County\",12:\"Disponible jobseekers\",14:\"Unemployment rate\"})\n",
        "    focused_countys_year20 = required_region_data.loc[(required_region_data[\"County\"] == \"Bardejov\") |\n",
        "                                             (required_region_data[\"County\"] == \"Stará Ľubovňa\") |\n",
        "                                            (required_region_data[\"County\"] == \"Svidník\") |\n",
        "                                            (required_region_data[\"County\"] == \"Prešov\")]\n",
        "\n",
        "    container_of_files.append(focused_countys_year20)\n",
        "    all_files = pd.concat(container_of_files,axis=0)"
      ],
      "execution_count": null,
      "outputs": []
    },
    {
      "cell_type": "markdown",
      "metadata": {
        "id": "lIt7LSR636Jq"
      },
      "source": [
        "Retrieve unemployment data for each region\n",
        "\n",
        "1) Bardejov and its monthly development of unemployment in the county in 2020\n",
        "\n",
        "- reset the index and setting it to month name values"
      ]
    },
    {
      "cell_type": "code",
      "metadata": {
        "id": "D_kP63Uo4MZa"
      },
      "source": [
        "unemployment_2020_BJ = all_files.loc[all_files['County'] == \"Bardejov\"]\n",
        "\n",
        "unemployment_2020_BJ = unemployment_2020_BJ.reset_index()\n",
        "unemployment_2020_BJ = unemployment_2020_BJ.drop(unemployment_2020_BJ.columns[[0]], axis=1).rename(columns={\"Disponible jobseekers\":\"BJ\",\"Unemployment rate\":\"BJ rate\"})\n",
        "\n",
        "unemployment_2020_BJ = unemployment_2020_BJ.set_index(pd.Series([\"December\", \"November\", \"October\", \"September\", \"August\", \"July\", \"June\", \"May\",\"April\", \"March\", \"February\" ,\"January\"]))"
      ],
      "execution_count": null,
      "outputs": []
    },
    {
      "cell_type": "markdown",
      "metadata": {
        "id": "eLxD_yLsc3RU"
      },
      "source": [
        "2) Prešov"
      ]
    },
    {
      "cell_type": "code",
      "metadata": {
        "id": "132S7VZWckyL"
      },
      "source": [
        "unemployment_2020_PO = all_files.loc[all_files['County'] == \"Prešov\"]\n",
        "\n",
        "unemployment_2020_PO = unemployment_2020_PO.reset_index()\n",
        "unemployment_2020_PO = unemployment_2020_PO.drop(unemployment_2020_PO.columns[[0]], axis=1).rename(columns={\"Disponible jobseekers\":\"PO\",\"Unemployment rate\":\"PO rate\"})\n",
        "\n",
        "unemployment_2020_PO = unemployment_2020_PO.set_index(pd.Series([\"December\", \"November\", \"October\", \"September\", \"August\", \"July\", \"June\", \"May\",\"April\", \"March\", \"February\" ,\"January\"]))"
      ],
      "execution_count": null,
      "outputs": []
    },
    {
      "cell_type": "markdown",
      "metadata": {
        "id": "gD9HLDT_c8F-"
      },
      "source": [
        "3) Stará Ľubovňa"
      ]
    },
    {
      "cell_type": "code",
      "metadata": {
        "id": "cFWcsY_Pc7eS"
      },
      "source": [
        "unemployment_2020_SL = all_files.loc[all_files['County'] == \"Stará Ľubovňa\"]\n",
        "\n",
        "unemployment_2020_SL = unemployment_2020_SL.reset_index()\n",
        "unemployment_2020_SL = unemployment_2020_SL.drop(unemployment_2020_SL.columns[[0]], axis=1).rename(columns={\"Disponible jobseekers\":\"SL\",\"Unemployment rate\":\"SL rate\"})\n",
        "\n",
        "unemployment_2020_SL = unemployment_2020_SL.set_index(pd.Series([\"December\", \"November\", \"October\", \"September\", \"August\", \"July\", \"June\", \"May\",\"April\", \"March\", \"February\" ,\"January\"]))"
      ],
      "execution_count": null,
      "outputs": []
    },
    {
      "cell_type": "markdown",
      "metadata": {
        "id": "B223uup9dMmj"
      },
      "source": [
        "4) Svidník"
      ]
    },
    {
      "cell_type": "code",
      "metadata": {
        "id": "SzXwQnLGdT53"
      },
      "source": [
        "unemployment_2020_SK = all_files.loc[all_files['County'] == \"Svidník\"]\n",
        "\n",
        "unemployment_2020_SK = unemployment_2020_SK.reset_index()\n",
        "unemployment_2020_SK = unemployment_2020_SK.drop(unemployment_2020_SK.columns[[0]], axis=1).rename(columns={\"Disponible jobseekers\":\"SK\",\"Unemployment rate\":\"SK rate\"})\n",
        "\n",
        "unemployment_2020_SK = unemployment_2020_SK.set_index(pd.Series([\"December\", \"November\", \"October\", \"September\", \"August\", \"July\", \"June\", \"May\",\"April\", \"March\", \"February\" ,\"January\"]))"
      ],
      "execution_count": null,
      "outputs": []
    },
    {
      "cell_type": "markdown",
      "metadata": {
        "id": "c2Ef5_XX6E5B"
      },
      "source": [
        "<h1> Numbers of disponible jobseekers according to each coutry throughout the year and average unemployment rate. </h1>\n",
        "\n",
        "- concatonets data frames of each county into a single one\n",
        "- derives an average unemployment rate for chosen regions"
      ]
    },
    {
      "cell_type": "code",
      "metadata": {
        "colab": {
          "base_uri": "https://localhost:8080/",
          "height": 282
        },
        "id": "ECc4ZIt_BYAE",
        "outputId": "1ff494f8-54e6-41a1-ef82-2a8c217cb6cc"
      },
      "source": [
        "r4_data = pd.concat([unemployment_2020_BJ,unemployment_2020_PO,unemployment_2020_SL,unemployment_2020_SK],axis=1)\n",
        "r4_data = r4_data.drop(r4_data.columns[[0]], axis=1)\n",
        "r4_data[\"Avg. rate\"] = (r4_data['BJ rate']+r4_data['PO rate']+r4_data['SK rate']+r4_data['SL rate'])/4\n",
        "r4_data = r4_data.drop([\"BJ rate\",\"PO rate\",\"SL rate\",\"SK rate\"], axis=1)\n",
        "r4_data\n",
        "#r4_data.columns = pd.MultiIndex.from_product([['Disponible jobseekers'],names=[\"BJ\",\"PO\",\"SL\",\"SK\"] r4_data.columns])\n",
        "r4_data.plot()"
      ],
      "execution_count": null,
      "outputs": [
        {
          "output_type": "execute_result",
          "data": {
            "text/plain": [
              "<matplotlib.axes._subplots.AxesSubplot at 0x7f07200c8d90>"
            ]
          },
          "metadata": {},
          "execution_count": 12
        },
        {
          "output_type": "display_data",
          "data": {
            "image/png": "[encoded data removed]",
            "text/plain": [
              "<Figure size 432x288 with 1 Axes>"
            ]
          },
          "metadata": {
            "needs_background": "light"
          }
        }
      ]
    },
    {
      "cell_type": "code",
      "metadata": {
        "colab": {
          "base_uri": "https://localhost:8080/"
        },
        "id": "xhFn8OUdbMIS",
        "outputId": "bd155595-316d-48e8-c3a2-55544a2dd457"
      },
      "source": [
        "numbers = [0, 1, 2]\n",
        "colors = ['green', 'purple']\n",
        "pd.MultiIndex.from_product([numbers, colors],\n",
        "                           names=['number', 'color'])"
      ],
      "execution_count": null,
      "outputs": [
        {
          "output_type": "execute_result",
          "data": {
            "text/plain": [
              "MultiIndex([(0,  'green'),\n",
              "            (0, 'purple'),\n",
              "            (1,  'green'),\n",
              "            (1, 'purple'),\n",
              "            (2,  'green'),\n",
              "            (2, 'purple')],\n",
              "           names=['number', 'color'])"
            ]
          },
          "metadata": {},
          "execution_count": 71
        }
      ]
    }
  ]
}